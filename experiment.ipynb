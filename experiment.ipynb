{
 "cells": [
  {
   "cell_type": "code",
   "execution_count": 2,
   "metadata": {},
   "outputs": [],
   "source": [
    "from PIL import Image\n",
    "import exiftool\n",
    "import os"
   ]
  },
  {
   "cell_type": "code",
   "execution_count": 3,
   "metadata": {},
   "outputs": [],
   "source": [
    "def add_description_to_image(image_path, description):\n",
    "    with exiftool.ExifTool() as et:\n",
    "        # Set the description metadata\n",
    "        et.execute(\n",
    "            b'-IPTC:Caption-Abstract=%s' % description.encode('utf-8'),\n",
    "            b'%s' % image_path.encode('utf-8')\n",
    "        )\n",
    "\n"
   ]
  },
  {
   "cell_type": "code",
   "execution_count": 7,
   "metadata": {},
   "outputs": [],
   "source": [
    "def main():\n",
    "    image_path = \"image.jpg\"\n",
    "    description = \"This is a sample description.\"\n",
    "    \n",
    "    if os.path.exists(image_path):\n",
    "        add_description_to_image(image_path, description)\n",
    "        print(f\"Description added to {image_path}.\")\n",
    "        \n",
    "        # Read and print the description using the separate function\n",
    "        retrieved_description = read_metadata_from_image(image_path)\n",
    "        print(f\"Retrieved description: {retrieved_description}\")\n",
    "    else:\n",
    "        print(f\"Image file not found: {image_path}\")"
   ]
  },
  {
   "cell_type": "code",
   "execution_count": 5,
   "metadata": {},
   "outputs": [
    {
     "name": "stdout",
     "output_type": "stream",
     "text": [
      "Description added to image.jpg.\n"
     ]
    }
   ],
   "source": [
    "#calling it\n",
    "#main()"
   ]
  },
  {
   "cell_type": "code",
   "execution_count": null,
   "metadata": {},
   "outputs": [],
   "source": [
    "#if __name__ == \"__main__\":\n",
    "#    main()"
   ]
  },
  {
   "cell_type": "code",
   "execution_count": 6,
   "metadata": {},
   "outputs": [],
   "source": [
    "#reading the metadata description\n",
    "def read_metadata_from_image(image_path):\n",
    "    with exiftool.ExifTool() as et:\n",
    "        metadata = et.get_metadata(image_path)\n",
    "        description = metadata.get(\"IPTC:Caption-Abstract\", \"No description found.\")\n",
    "        return description"
   ]
  },
  {
   "cell_type": "code",
   "execution_count": 8,
   "metadata": {},
   "outputs": [
    {
     "name": "stdout",
     "output_type": "stream",
     "text": [
      "Image file not found: yourimage.jpg\n"
     ]
    }
   ],
   "source": [
    "main()"
   ]
  },
  {
   "cell_type": "code",
   "execution_count": null,
   "metadata": {},
   "outputs": [],
   "source": []
  }
 ],
 "metadata": {
  "kernelspec": {
   "display_name": "pic",
   "language": "python",
   "name": "python3"
  },
  "language_info": {
   "codemirror_mode": {
    "name": "ipython",
    "version": 3
   },
   "file_extension": ".py",
   "mimetype": "text/x-python",
   "name": "python",
   "nbconvert_exporter": "python",
   "pygments_lexer": "ipython3",
   "version": "3.9.0"
  }
 },
 "nbformat": 4,
 "nbformat_minor": 2
}
